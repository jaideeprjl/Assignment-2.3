{
 "cells": [
  {
   "cell_type": "markdown",
   "metadata": {},
   "source": [
    "Assignment 2.3 - Write a Python program to reverse a word after accepting the input from the user."
   ]
  },
  {
   "cell_type": "markdown",
   "metadata": {},
   "source": []
  },
  {
   "cell_type": "code",
   "execution_count": 13,
   "metadata": {},
   "outputs": [
    {
     "name": "stdout",
     "output_type": "stream",
     "text": [
      "Input a word to reverse: jaideep\n",
      "Reverse - Method 1 : \n",
      "peediaj\n",
      "\n",
      "Reverse - Method 2 :  peediaj\n",
      "Reverse - Method 3 :  peediaj\n"
     ]
    }
   ],
   "source": [
    "# Method 1: Using For Loop\n",
    "word = input (\"Input a word to reverse: \")\n",
    "print(\"Reverse - Method 1 : \")\n",
    "for char in range(len(word) - 1, -1, -1):\n",
    "    print(word[char], end=\"\")\n",
    "print(\"\\n\")\n",
    "\n",
    "# Method 2 : Method 2 : Using Indexing Syntax\n",
    "wordrev = word[-1::-1]\n",
    "print(\"Reverse - Method 2 : \",wordrev)\n",
    "wordrev = word[::-1]\n",
    "print(\"Reverse - Method 3 : \",wordrev)"
   ]
  },
  {
   "cell_type": "code",
   "execution_count": null,
   "metadata": {},
   "outputs": [],
   "source": []
  },
  {
   "cell_type": "code",
   "execution_count": null,
   "metadata": {},
   "outputs": [],
   "source": []
  }
 ],
 "metadata": {
  "kernelspec": {
   "display_name": "Python 3",
   "language": "python",
   "name": "python3"
  },
  "language_info": {
   "codemirror_mode": {
    "name": "ipython",
    "version": 3
   },
   "file_extension": ".py",
   "mimetype": "text/x-python",
   "name": "python",
   "nbconvert_exporter": "python",
   "pygments_lexer": "ipython3",
   "version": "3.6.5"
  }
 },
 "nbformat": 4,
 "nbformat_minor": 2
}
